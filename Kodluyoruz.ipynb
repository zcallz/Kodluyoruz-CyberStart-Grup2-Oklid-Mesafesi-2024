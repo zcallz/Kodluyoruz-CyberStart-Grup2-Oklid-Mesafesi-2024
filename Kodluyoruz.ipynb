{
  "nbformat": 4,
  "nbformat_minor": 0,
  "metadata": {
    "colab": {
      "provenance": []
    },
    "kernelspec": {
      "name": "python3",
      "display_name": "Python 3"
    },
    "language_info": {
      "name": "python"
    }
  },
  "cells": [
    {
      "cell_type": "code",
      "execution_count": 1,
      "metadata": {
        "colab": {
          "base_uri": "https://localhost:8080/"
        },
        "id": "sFu0vLeYw5-q",
        "outputId": "3af9fa73-d81a-48b6-c744-02daa637399e"
      },
      "outputs": [
        {
          "output_type": "stream",
          "name": "stdout",
          "text": [
            "Noktalar arasındaki minimum mesafe: 2.23606797749979\n"
          ]
        }
      ],
      "source": [
        "import math\n",
        "\n",
        "# Noktaların tanımlanması\n",
        "points = [(1, 2), (4, 6), (7, 1), (3, 3), (5, 8)]\n",
        "\n",
        "# Öklid mesafesi için fonksiyon\n",
        "def euclideanDistance(point1, point2):\n",
        "    return math.sqrt((point1[0] - point2[0])**2 + (point1[1] - point2[1])**2)\n",
        "\n",
        "# Mesafelerin hesaplanması\n",
        "distances = []\n",
        "for i in range(len(points)):\n",
        "    for j in range(i + 1, len(points)):\n",
        "        distance = euclideanDistance(points[i], points[j])\n",
        "        distances.append(distance)\n",
        "\n",
        "# Minimum mesafenin bulunması\n",
        "min_distance = min(distances)\n",
        "\n",
        "print(\"Noktalar arasındaki minimum mesafe:\", min_distance)\n"
      ]
    }
  ]
}